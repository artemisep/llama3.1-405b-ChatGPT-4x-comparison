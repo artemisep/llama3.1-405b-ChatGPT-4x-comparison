{
 "cells": [
  {
   "cell_type": "code",
   "execution_count": 1,
   "id": "162c07de-3450-4519-ba34-4c9bbcd87b2c",
   "metadata": {},
   "outputs": [],
   "source": [
    "import os\n",
    "import openai"
   ]
  },
  {
   "cell_type": "code",
   "execution_count": 4,
   "id": "f8ae4462-8db6-4a64-ae50-bb50a4cb5fe4",
   "metadata": {},
   "outputs": [
    {
     "name": "stdout",
     "output_type": "stream",
     "text": [
      "Since we are comparing decimal numbers, let's break it down:\n",
      "\n",
      "* 3 is equal in both numbers, so we move on to the next digit.\n",
      "* 9 is greater than 1, so at this point, 3.9 seems to be larger.\n",
      "* However, there is another digit in 3.11, which is 1 in the hundredths place.\n",
      "* But even considering that, 3.9 (which is the same as 3.90) is still greater than 3.11.\n",
      "\n",
      "Therefore, 3.9 is bigger."
     ]
    }
   ],
   "source": [
    "\n",
    "client = openai.OpenAI(\n",
    "    base_url=\"https://llama3-405b-hackathon.lepton.run/api/v1/\",\n",
    "    # Get your token from lepton.ai under Settings -> Tokens -> Workspace Token\n",
    "    api_key=os.environ['LEPTON_API_TOKEN']\n",
    ")\n",
    "\n",
    "completion = client.chat.completions.create(\n",
    "    model=\"llama3-405b\",\n",
    "    messages=[\n",
    "        {\"role\": \"user\", \"content\": \"Which one is bigger? 3.9 or 3.11\"},\n",
    "    ],\n",
    "    max_tokens=128,\n",
    "    stream=True,\n",
    ")\n",
    "\n",
    "for chunk in completion:\n",
    "    if not chunk.choices:\n",
    "        continue\n",
    "    content = chunk.choices[0].delta.content\n",
    "    if content:\n",
    "        print(content, end=\"\")"
   ]
  },
  {
   "cell_type": "code",
   "execution_count": null,
   "id": "31279f4f-2017-48c1-9c46-4eb7edc458ef",
   "metadata": {},
   "outputs": [],
   "source": []
  }
 ],
 "metadata": {
  "kernelspec": {
   "display_name": "st_llamaInd_chat_py3.10.12",
   "language": "python",
   "name": "st_llamaind_chat_py3.10.12"
  },
  "language_info": {
   "codemirror_mode": {
    "name": "ipython",
    "version": 3
   },
   "file_extension": ".py",
   "mimetype": "text/x-python",
   "name": "python",
   "nbconvert_exporter": "python",
   "pygments_lexer": "ipython3",
   "version": "3.10.12"
  }
 },
 "nbformat": 4,
 "nbformat_minor": 5
}
